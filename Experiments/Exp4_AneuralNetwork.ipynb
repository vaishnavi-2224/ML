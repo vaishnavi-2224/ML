{
  "nbformat": 4,
  "nbformat_minor": 0,
  "metadata": {
    "colab": {
      "provenance": []
    },
    "kernelspec": {
      "name": "python3",
      "display_name": "Python 3"
    },
    "language_info": {
      "name": "python"
    }
  },
  "cells": [
    {
      "cell_type": "code",
      "execution_count": 3,
      "metadata": {
        "colab": {
          "base_uri": "https://localhost:8080/"
        },
        "id": "08QaHayht5Rm",
        "outputId": "018d7c55-8d9c-4d7e-b015-fb158d460646"
      },
      "outputs": [
        {
          "output_type": "stream",
          "name": "stdout",
          "text": [
            "Mounted at /content/drive\n"
          ]
        }
      ],
      "source": [
        "from google.colab import drive\n",
        "drive.mount('/content/drive')"
      ]
    },
    {
      "cell_type": "code",
      "source": [
        "import os\n",
        "dataset_path_x='/content/drive/MyDrive/ML_Dataset/X.npy'\n",
        "dataset_path_y='/content/drive/MyDrive/ML_Dataset/Y.npy'"
      ],
      "metadata": {
        "id": "I1URk2lnuFYi"
      },
      "execution_count": 4,
      "outputs": []
    },
    {
      "cell_type": "code",
      "source": [
        "import numpy as np\n",
        "x=np.load(dataset_path_x)\n",
        "img_size=64\n",
        "import matplotlib.pyplot as plt\n",
        "\n",
        "plt.subplot(1,2,1)\n",
        "plt.imshow(x[399].reshape(img_size,img_size),cmap='gray')\n",
        "plt.subplot(1,2,2)\n",
        "plt.imshow(x[900].reshape(img_size,img_size),cmap='gray')"
      ],
      "metadata": {
        "colab": {
          "base_uri": "https://localhost:8080/",
          "height": 306
        },
        "id": "M916TRQcuaHB",
        "outputId": "0ad9815b-5f25-4b7b-a0e4-ba14d1671fac"
      },
      "execution_count": 5,
      "outputs": [
        {
          "output_type": "execute_result",
          "data": {
            "text/plain": [
              "<matplotlib.image.AxesImage at 0x7e2bb4553310>"
            ]
          },
          "metadata": {},
          "execution_count": 5
        },
        {
          "output_type": "display_data",
          "data": {
            "text/plain": [
              "<Figure size 640x480 with 2 Axes>"
            ],
            "image/png": "[encoded data removed]"
          },
          "metadata": {}
        }
      ]
    },
    {
      "cell_type": "code",
      "source": [
        "x.shape #64x64 is the size of pixel and 2062 is no of col"
      ],
      "metadata": {
        "colab": {
          "base_uri": "https://localhost:8080/"
        },
        "id": "FyNmahsovGP4",
        "outputId": "46279b58-29f4-4718-d406-2ddfaa38fb70"
      },
      "execution_count": 6,
      "outputs": [
        {
          "output_type": "execute_result",
          "data": {
            "text/plain": [
              "(2062, 64, 64)"
            ]
          },
          "metadata": {},
          "execution_count": 6
        }
      ]
    },
    {
      "cell_type": "code",
      "source": [
        "X_new=np.concatenate((x[204:409],x[822:1027]),axis=0)\n",
        "z=np.zeros(205)\n",
        "o=np.ones(205)\n",
        "Y_new=np.concatenate((z,o),axis=0).reshape(X_new.shape[0],1)\n",
        "print(\"xshape\",X_new.shape)\n",
        "print(\"yshape\",Y_new.shape)"
      ],
      "metadata": {
        "colab": {
          "base_uri": "https://localhost:8080/"
        },
        "id": "9jtz3L7JvTGb",
        "outputId": "6040cbd5-d970-4700-da66-aa9d44f91f5b"
      },
      "execution_count": 7,
      "outputs": [
        {
          "output_type": "stream",
          "name": "stdout",
          "text": [
            "xshape (410, 64, 64)\n",
            "yshape (410, 1)\n"
          ]
        }
      ]
    },
    {
      "cell_type": "code",
      "source": [
        "from sklearn.model_selection import train_test_split\n",
        "x_train,x_test,y_train,y_test=train_test_split(X_new,Y_new,test_size=0.15,random_state=42)\n",
        "number_of_train=x_train.shape[0] # Changed X_new_train to x_train\n",
        "number_of_test=x_test.shape[0]  # Changed X_new_test to x_test\n",
        "print(\"Number of training examples: \",number_of_train)\n",
        "print(\"Number of testing examples: \",number_of_test)"
      ],
      "metadata": {
        "colab": {
          "base_uri": "https://localhost:8080/"
        },
        "id": "O2ZmGqsry8i5",
        "outputId": "cc5da77b-0d4b-489c-eec6-0af377c0aec3"
      },
      "execution_count": 8,
      "outputs": [
        {
          "output_type": "stream",
          "name": "stdout",
          "text": [
            "Number of training examples:  348\n",
            "Number of testing examples:  62\n"
          ]
        }
      ]
    },
    {
      "cell_type": "code",
      "source": [
        "X_train_flatten=x_train.reshape(number_of_train,x_train.shape[1]*x_train.shape[2])#multiplication is making it into 2d image\n",
        "X_test_flatten=x_test.reshape(number_of_test,x_test.shape[1]*x_test.shape[2])\n",
        "print(\"X train flatten: \",X_train_flatten.shape)\n",
        "print(\"X test flatten: \",X_test_flatten.shape)\n",
        "#means we have 348 images and each image has 4096 pixels-in train array\n",
        "#62 images and again each with 4096 pixels- in test array"
      ],
      "metadata": {
        "colab": {
          "base_uri": "https://localhost:8080/"
        },
        "id": "POuFmxp3zDIo",
        "outputId": "5bfa7e8d-0158-4c31-ee2b-e04944208871"
      },
      "execution_count": 9,
      "outputs": [
        {
          "output_type": "stream",
          "name": "stdout",
          "text": [
            "X train flatten:  (348, 4096)\n",
            "X test flatten:  (62, 4096)\n"
          ]
        }
      ]
    },
    {
      "cell_type": "code",
      "source": [
        "x_train=X_train_flatten.T\n",
        "x_test=X_test_flatten.T\n",
        "y_train=y_train.T\n",
        "y_test=y_test.T\n",
        "print(\"X train: \",x_train.shape)\n",
        "print(\"X test: \",x_test.shape)\n",
        "print(\"Y train: \",y_train.shape)\n",
        "print(\"Y test: \",y_test.shape)"
      ],
      "metadata": {
        "colab": {
          "base_uri": "https://localhost:8080/"
        },
        "id": "oUkjIPaAzKyD",
        "outputId": "02616490-f0bd-40ce-a25c-dfff358d3212"
      },
      "execution_count": 10,
      "outputs": [
        {
          "output_type": "stream",
          "name": "stdout",
          "text": [
            "X train:  (4096, 348)\n",
            "X test:  (4096, 62)\n",
            "Y train:  (1, 348)\n",
            "Y test:  (1, 62)\n"
          ]
        }
      ]
    },
    {
      "cell_type": "code",
      "source": [
        "def initialize_parameters_and_layer_sizes_NN(x_train,y_train):\n",
        "  parameters={\"weight1\": np.random.randn(3,x_train.shape[0])*0.1,\n",
        "              \"bias1\":np.zeros((3,1)),\n",
        "              \"weight2\": np.random.randn(y_train.shape[0],3)*0.1,\n",
        "              \"bias2\":np.zeros((y_train.shape[0],1))}\n",
        "  return parameters\n"
      ],
      "metadata": {
        "id": "opYe8hO3zP81"
      },
      "execution_count": 23,
      "outputs": []
    },
    {
      "cell_type": "code",
      "source": [
        "def forward_propagation_NN(x_train,parameters):\n",
        "  Z1=np.dot(parameters[\"weight1\"],x_train)+parameters[\"bias1\"]\n",
        "  A1=np.tanh(Z1)\n",
        "  Z2=np.dot(parameters[\"weight2\"],A1)+parameters[\"bias2\"]\n",
        "  A2=sigmoid(Z2)\n",
        "  cache={\n",
        "      \"Z1\":Z1,\n",
        "      \"A1\":A1,\n",
        "      \"Z2\":Z2,\n",
        "      \"A2\":A2\n",
        "  }\n",
        "  return A2,cache"
      ],
      "metadata": {
        "id": "L9JPi5W6zQni"
      },
      "execution_count": 24,
      "outputs": []
    },
    {
      "cell_type": "code",
      "source": [
        "def sigmoid(z):\n",
        "  y_head=1/(1+np.exp(-z))\n",
        "  return y_head"
      ],
      "metadata": {
        "id": "fWXwwju3zTUz"
      },
      "execution_count": 25,
      "outputs": []
    },
    {
      "cell_type": "code",
      "source": [
        "def compute_cost_NN(A2,Y,parameters): #here A2 is predicted output and Y is org output\n",
        "  logprobs=np.multiply(np.log(A2),Y)\n",
        "  cost=-np.sum(logprobs)/Y.shape[1]\n",
        "  return cost"
      ],
      "metadata": {
        "id": "e-MuNueEzV5d"
      },
      "execution_count": 26,
      "outputs": []
    },
    {
      "cell_type": "code",
      "source": [
        "def backward_propagation_NN(parameters,cache,X,Y):\n",
        "  dZ2=cache[\"A2\"]-Y\n",
        "  dW2=np.dot(dZ2,cache[\"A1\"].T)/X.shape[1]\n",
        "  db2=np.sum(dZ2,axis=1,keepdims=True)/X.shape[1]\n",
        "  dZ1=np.dot(parameters[\"weight2\"].T,dZ2)*(1-np.power(cache[\"A1\"],2))\n",
        "  dW1=np.dot(dZ1,X.T)/X.shape[1]\n",
        "  db1=np.sum(dZ1,axis=1,keepdims=True)/X.shape[1]\n",
        "  grads={\"dweight1\":dW1,\"dbias1\":db1,\"dweight2\":dW2,\"dbias2\":db2}\n",
        "  return grads"
      ],
      "metadata": {
        "id": "oDuluuSOzZLW"
      },
      "execution_count": 38,
      "outputs": []
    },
    {
      "cell_type": "code",
      "source": [
        "def update_parameters(parameters, grads, learning_rate=0.01):\n",
        "    parameters[\"weight1\"] -= learning_rate * grads[\"dWwight1\"]\n",
        "    parameters[\"bias1\"] -= learning_rate * grads[\"dbias1\"]\n",
        "    parameters[\"weight2\"] -= learning_rate * grads[\"dWeight2\"]\n",
        "    parameters[\"bias2\"] -= learning_rate * grads[\"dbias2\"]\n",
        "    return parameters\n"
      ],
      "metadata": {
        "id": "4wpk6MgKzbhT"
      },
      "execution_count": 39,
      "outputs": []
    },
    {
      "cell_type": "code",
      "source": [
        "def update_parameters_NN(parameters, grads, learning_rate = 0.01):\n",
        "    parameters = {\"weight1\": parameters[\"weight1\"]-learning_rate*grads[\"dweight1\"],\n",
        "                  \"bias1\": parameters[\"bias1\"]-learning_rate*grads[\"dbias1\"],\n",
        "                  \"weight2\": parameters[\"weight2\"]-learning_rate*grads[\"dweight2\"],\n",
        "                  \"bias2\": parameters[\"bias2\"]-learning_rate*grads[\"dbias2\"]}\n",
        "\n",
        "    return parameters"
      ],
      "metadata": {
        "id": "aNg45fKbWO5G"
      },
      "execution_count": 40,
      "outputs": []
    },
    {
      "cell_type": "code",
      "source": [
        "# prediction\n",
        "def predict_NN(parameters,x_test):\n",
        "    # x_test is a input for forward propagation\n",
        "    A2, cache = forward_propagation_NN(x_test,parameters)\n",
        "    Y_prediction = np.zeros((1,x_test.shape[1]))\n",
        "    # if z is bigger than 0.5, our prediction is sign one (y_head=1),\n",
        "    # if z is smaller than 0.5, our prediction is sign zero (y_head=0),\n",
        "    for i in range(A2.shape[1]):\n",
        "        if A2[0,i]<= 0.5:\n",
        "            Y_prediction[0,i] = 0\n",
        "        else:\n",
        "            Y_prediction[0,i] = 1\n",
        "\n",
        "    return Y_prediction\n"
      ],
      "metadata": {
        "id": "FZvQS9JwXuX1"
      },
      "execution_count": 41,
      "outputs": []
    },
    {
      "cell_type": "code",
      "source": [
        "# 2 - Layer neural network\n",
        "def two_layer_neural_network(x_train, y_train,x_test,y_test, num_iterations):\n",
        "    cost_list = []\n",
        "    index_list = []\n",
        "    #initialize parameters and layer sizes\n",
        "    parameters = initialize_parameters_and_layer_sizes_NN(x_train, y_train)\n",
        "\n",
        "    for i in range(0, num_iterations):\n",
        "         # forward propagation\n",
        "        A2, cache = forward_propagation_NN(x_train,parameters)\n",
        "        # compute cost\n",
        "        cost = compute_cost_NN(A2, y_train, parameters)\n",
        "         # backward propagation\n",
        "        grads = backward_propagation_NN(parameters, cache, x_train, y_train)\n",
        "         # update parameters\n",
        "        parameters = update_parameters_NN(parameters, grads)\n",
        "\n",
        "        if i % 100 == 0:\n",
        "            cost_list.append(cost)\n",
        "            index_list.append(i)\n",
        "            print (\"Cost after iteration %i: %f\" %(i, cost))\n",
        "    plt.plot(index_list,cost_list)\n",
        "    plt.xticks(index_list,rotation='vertical')\n",
        "    plt.xlabel(\"Number of Iterarion\")\n",
        "    plt.ylabel(\"Cost\")\n",
        "    plt.show()\n",
        "\n",
        "    # predict\n",
        "    y_prediction_test = predict_NN(parameters,x_test)\n",
        "    y_prediction_train = predict_NN(parameters,x_train)\n",
        "\n",
        "    # Print train/test Errors\n",
        "    print(\"train accuracy: {} %\".format(100 - np.mean(np.abs(y_prediction_train - y_train)) * 100))\n",
        "    print(\"test accuracy: {} %\".format(100 - np.mean(np.abs(y_prediction_test - y_test)) * 100))\n",
        "    return parameters\n",
        "\n",
        "parameters = two_layer_neural_network(x_train, y_train,x_test,y_test, num_iterations=2500)"
      ],
      "metadata": {
        "colab": {
          "base_uri": "https://localhost:8080/",
          "height": 940
        },
        "id": "SjWmwtk3XzxK",
        "outputId": "fe744d77-ec1a-4ea2-e5bb-206cba621549"
      },
      "execution_count": 42,
      "outputs": [
        {
          "output_type": "stream",
          "name": "stdout",
          "text": [
            "Cost after iteration 0: 0.347115\n",
            "Cost after iteration 100: 0.348404\n",
            "Cost after iteration 200: 0.329359\n",
            "Cost after iteration 300: 0.275370\n",
            "Cost after iteration 400: 0.215440\n",
            "Cost after iteration 500: 0.170254\n",
            "Cost after iteration 600: 0.138868\n",
            "Cost after iteration 700: 0.116598\n",
            "Cost after iteration 800: 0.100037\n",
            "Cost after iteration 900: 0.087075\n",
            "Cost after iteration 1000: 0.076404\n",
            "Cost after iteration 1100: 0.067251\n",
            "Cost after iteration 1200: 0.059233\n",
            "Cost after iteration 1300: 0.052243\n",
            "Cost after iteration 1400: 0.046280\n",
            "Cost after iteration 1500: 0.041292\n",
            "Cost after iteration 1600: 0.037137\n",
            "Cost after iteration 1700: 0.033652\n",
            "Cost after iteration 1800: 0.030706\n",
            "Cost after iteration 1900: 0.028199\n",
            "Cost after iteration 2000: 0.026057\n",
            "Cost after iteration 2100: 0.024220\n",
            "Cost after iteration 2200: 0.022635\n",
            "Cost after iteration 2300: 0.021258\n",
            "Cost after iteration 2400: 0.020052\n"
          ]
        },
        {
          "output_type": "display_data",
          "data": {
            "text/plain": [
              "<Figure size 640x480 with 1 Axes>"
            ],
            "image/png": "[encoded data removed]"
          },
          "metadata": {}
        },
        {
          "output_type": "stream",
          "name": "stdout",
          "text": [
            "train accuracy: 99.42528735632185 %\n",
            "test accuracy: 95.16129032258064 %\n"
          ]
        }
      ]
    },
    {
      "cell_type": "code",
      "source": [],
      "metadata": {
        "id": "ndsjEbhMX9xx"
      },
      "execution_count": null,
      "outputs": []
    }
  ]
}